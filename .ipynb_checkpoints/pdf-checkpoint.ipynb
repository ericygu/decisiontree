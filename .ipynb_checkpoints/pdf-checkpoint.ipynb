{
 "cells": [
  {
   "cell_type": "markdown",
   "metadata": {},
   "source": [
    "### Q1 - Decision Tree\n",
    "\n",
    "a.) Check out dt.py\n",
    "\n",
    "b.) Check out dt.py\n",
    "\n",
    "c.) See Below\n",
    "\n",
    "d.) \n",
    "\n",
    "Every time there is a split, train must look through all *n* values of all *d* features to find\n",
    "the best split, so we have *nd*. There is at least one split at each level, so total time to\n",
    "train is O(*ndp*), where *p* is the maximum depth. Predict would be like searching in a red black tree, since it has to get to a leaf node. This takes O(*p*) time as the furthest possible leaf would be at the max depth, and predict would have take make a comparison for every node from and including the root till that leaf."
   ]
  },
  {
   "cell_type": "code",
   "execution_count": null,
   "metadata": {},
   "outputs": [],
   "source": []
  },
  {
   "cell_type": "markdown",
   "metadata": {},
   "source": [
    "### Q2 - Model Assessment\n",
    "\n",
    "a.) Check out q2.py\n",
    "\n",
    "b.) Check out q2.py\n",
    "\n",
    "c.) Check out q2.py\n",
    "\n",
    "d.) \n",
    "\n"
   ]
  },
  {
   "cell_type": "markdown",
   "metadata": {},
   "source": [
    "### Q3 - Decision Tree Robustness\n",
    "\n",
    "a.) \n",
    "\n",
    "\n",
    "Best Knn Parameter:\n",
    "\n",
    "Best Decision Tree Parameter:\n",
    "\n",
    "\n",
    "\n",
    "b.) Check out q3.py\n",
    "\n",
    "c.) Check out q3.py\n",
    "\n",
    "d.)"
   ]
  }
 ],
 "metadata": {
  "kernelspec": {
   "display_name": "Python 3",
   "language": "python",
   "name": "python3"
  },
  "language_info": {
   "codemirror_mode": {
    "name": "ipython",
    "version": 3
   },
   "file_extension": ".py",
   "mimetype": "text/x-python",
   "name": "python",
   "nbconvert_exporter": "python",
   "pygments_lexer": "ipython3",
   "version": "3.8.3"
  }
 },
 "nbformat": 4,
 "nbformat_minor": 4
}
